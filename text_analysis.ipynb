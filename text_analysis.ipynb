{
 "cells": [
  {
   "cell_type": "markdown",
   "id": "5d013e9d-562c-4b82-87a0-52ee003af17e",
   "metadata": {},
   "source": [
    "# CodeAcademy Text Analysis Project\n",
    "Plan and conduct any number of NLP techniques to analyze and gain insight into the data.\n",
    "These techniques can include:\n",
    "\n",
    "Language Parsing\n",
    "Word Vectorization\n",
    "Language Modeling\n",
    "Topic Modeling\n",
    "Checking Similarity\n",
    "Sentiment Analysis\n",
    "POS Tagging\n",
    "Named Entity Recognition"
   ]
  },
  {
   "cell_type": "markdown",
   "id": "5ea3d9eb-17e7-474d-b1d5-d3e530a0958e",
   "metadata": {},
   "source": [
    "## Project Aims\n",
    "- Temporal Analysis of Text Message Data:\n",
    "    - How did texting language, abbreviations, and communication patterns change from 2003 to 2015?\n",
    "    - Did messages get longer/shorter over time as technology evolved?\n",
    "- Cultural Variation in Text Trends:\n",
    "    - How does text message formality vary across cultures?\n",
    "- Sentiment Analysis:\n",
    "    - How did positive and negative sentiment in text messages change over the 12-year period?\n",
    "    - Length vs content correlation: Do shorter messages convey different emotions?\n",
    "- "
   ]
  },
  {
   "cell_type": "markdown",
   "id": "7b878ed3-7e59-4330-92b3-d62a153878f4",
   "metadata": {},
   "source": [
    "## Set-up\n",
    "### Load in required libraries"
   ]
  },
  {
   "cell_type": "code",
   "execution_count": 8,
   "id": "365958a2-88f3-4050-ae9e-dcdff30e15af",
   "metadata": {},
   "outputs": [],
   "source": [
    "import pandas as pd\n",
    "import numpy as np"
   ]
  },
  {
   "cell_type": "markdown",
   "id": "bcf182e1-b096-40a7-b2af-f24357135ccb",
   "metadata": {},
   "source": [
    "### Load in files"
   ]
  },
  {
   "cell_type": "code",
   "execution_count": 6,
   "id": "7e0c6f6f-fbf8-491c-bf49-210b3ffe73af",
   "metadata": {},
   "outputs": [],
   "source": [
    "text_df = pd.read_csv('clean_nus_sms.csv')"
   ]
  },
  {
   "cell_type": "code",
   "execution_count": 9,
   "id": "e8466c4c-3cdd-4416-9866-30ecda2022fe",
   "metadata": {},
   "outputs": [
    {
     "data": {
      "text/html": [
       "<div>\n",
       "<style scoped>\n",
       "    .dataframe tbody tr th:only-of-type {\n",
       "        vertical-align: middle;\n",
       "    }\n",
       "\n",
       "    .dataframe tbody tr th {\n",
       "        vertical-align: top;\n",
       "    }\n",
       "\n",
       "    .dataframe thead th {\n",
       "        text-align: right;\n",
       "    }\n",
       "</style>\n",
       "<table border=\"1\" class=\"dataframe\">\n",
       "  <thead>\n",
       "    <tr style=\"text-align: right;\">\n",
       "      <th></th>\n",
       "      <th>Unnamed: 0</th>\n",
       "      <th>id</th>\n",
       "      <th>Message</th>\n",
       "      <th>length</th>\n",
       "      <th>country</th>\n",
       "      <th>Date</th>\n",
       "    </tr>\n",
       "  </thead>\n",
       "  <tbody>\n",
       "    <tr>\n",
       "      <th>0</th>\n",
       "      <td>0</td>\n",
       "      <td>10120</td>\n",
       "      <td>Bugis oso near wat...</td>\n",
       "      <td>21</td>\n",
       "      <td>SG</td>\n",
       "      <td>2003/4</td>\n",
       "    </tr>\n",
       "    <tr>\n",
       "      <th>1</th>\n",
       "      <td>1</td>\n",
       "      <td>10121</td>\n",
       "      <td>Go until jurong point, crazy.. Available only ...</td>\n",
       "      <td>111</td>\n",
       "      <td>SG</td>\n",
       "      <td>2003/4</td>\n",
       "    </tr>\n",
       "    <tr>\n",
       "      <th>2</th>\n",
       "      <td>2</td>\n",
       "      <td>10122</td>\n",
       "      <td>I dunno until when... Lets go learn pilates...</td>\n",
       "      <td>46</td>\n",
       "      <td>SG</td>\n",
       "      <td>2003/4</td>\n",
       "    </tr>\n",
       "    <tr>\n",
       "      <th>3</th>\n",
       "      <td>3</td>\n",
       "      <td>10123</td>\n",
       "      <td>Den only weekdays got special price... Haiz......</td>\n",
       "      <td>140</td>\n",
       "      <td>SG</td>\n",
       "      <td>2003/4</td>\n",
       "    </tr>\n",
       "    <tr>\n",
       "      <th>4</th>\n",
       "      <td>4</td>\n",
       "      <td>10124</td>\n",
       "      <td>Meet after lunch la...</td>\n",
       "      <td>22</td>\n",
       "      <td>SG</td>\n",
       "      <td>2003/4</td>\n",
       "    </tr>\n",
       "    <tr>\n",
       "      <th>5</th>\n",
       "      <td>5</td>\n",
       "      <td>10125</td>\n",
       "      <td>m walking in citylink now ü faster come down.....</td>\n",
       "      <td>65</td>\n",
       "      <td>SG</td>\n",
       "      <td>2003/4</td>\n",
       "    </tr>\n",
       "    <tr>\n",
       "      <th>6</th>\n",
       "      <td>6</td>\n",
       "      <td>10126</td>\n",
       "      <td>5 nights...We nt staying at port step liao...T...</td>\n",
       "      <td>51</td>\n",
       "      <td>SG</td>\n",
       "      <td>2003/4</td>\n",
       "    </tr>\n",
       "    <tr>\n",
       "      <th>7</th>\n",
       "      <td>7</td>\n",
       "      <td>10127</td>\n",
       "      <td>Hey pple...$700 or $900 for 5 nights...Excelle...</td>\n",
       "      <td>81</td>\n",
       "      <td>SG</td>\n",
       "      <td>2003/4</td>\n",
       "    </tr>\n",
       "    <tr>\n",
       "      <th>8</th>\n",
       "      <td>8</td>\n",
       "      <td>10128</td>\n",
       "      <td>Yun ah.the ubi one say if ü wan call by tomorr...</td>\n",
       "      <td>160</td>\n",
       "      <td>SG</td>\n",
       "      <td>2003/4</td>\n",
       "    </tr>\n",
       "    <tr>\n",
       "      <th>9</th>\n",
       "      <td>9</td>\n",
       "      <td>10129</td>\n",
       "      <td>Hey tmr maybe can meet you at yck</td>\n",
       "      <td>33</td>\n",
       "      <td>SG</td>\n",
       "      <td>2003/4</td>\n",
       "    </tr>\n",
       "  </tbody>\n",
       "</table>\n",
       "</div>"
      ],
      "text/plain": [
       "   Unnamed: 0     id                                            Message  \\\n",
       "0           0  10120                              Bugis oso near wat...   \n",
       "1           1  10121  Go until jurong point, crazy.. Available only ...   \n",
       "2           2  10122     I dunno until when... Lets go learn pilates...   \n",
       "3           3  10123  Den only weekdays got special price... Haiz......   \n",
       "4           4  10124                             Meet after lunch la...   \n",
       "5           5  10125  m walking in citylink now ü faster come down.....   \n",
       "6           6  10126  5 nights...We nt staying at port step liao...T...   \n",
       "7           7  10127  Hey pple...$700 or $900 for 5 nights...Excelle...   \n",
       "8           8  10128  Yun ah.the ubi one say if ü wan call by tomorr...   \n",
       "9           9  10129                  Hey tmr maybe can meet you at yck   \n",
       "\n",
       "  length country    Date  \n",
       "0     21      SG  2003/4  \n",
       "1    111      SG  2003/4  \n",
       "2     46      SG  2003/4  \n",
       "3    140      SG  2003/4  \n",
       "4     22      SG  2003/4  \n",
       "5     65      SG  2003/4  \n",
       "6     51      SG  2003/4  \n",
       "7     81      SG  2003/4  \n",
       "8    160      SG  2003/4  \n",
       "9     33      SG  2003/4  "
      ]
     },
     "execution_count": 9,
     "metadata": {},
     "output_type": "execute_result"
    }
   ],
   "source": [
    "# view data\n",
    "text_df.head(10)"
   ]
  },
  {
   "cell_type": "markdown",
   "id": "3a7989e6-f281-46cb-b038-68767864db4c",
   "metadata": {},
   "source": [
    "#### Variable info:\n",
    "- `id`: message ID\n",
    "- `Message`: the text content\n",
    "- `length`: message length\n",
    "- `country`: Country of messager; SG (Singapore) and Serbia\n",
    "- `Date`: Month and year information; 2003/4 to 2015/3 format"
   ]
  },
  {
   "cell_type": "code",
   "execution_count": null,
   "id": "56a4116f-031e-42e9-bfd4-1e7b1d4b13f9",
   "metadata": {},
   "outputs": [],
   "source": []
  }
 ],
 "metadata": {
  "kernelspec": {
   "display_name": "Python 3",
   "language": "python",
   "name": "python3"
  },
  "language_info": {
   "codemirror_mode": {
    "name": "ipython",
    "version": 3
   },
   "file_extension": ".py",
   "mimetype": "text/x-python",
   "name": "python",
   "nbconvert_exporter": "python",
   "pygments_lexer": "ipython3",
   "version": "3.8.8"
  }
 },
 "nbformat": 4,
 "nbformat_minor": 5
}
