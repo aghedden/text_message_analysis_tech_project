{
 "cells": [
  {
   "cell_type": "markdown",
   "id": "5d013e9d-562c-4b82-87a0-52ee003af17e",
   "metadata": {},
   "source": [
    "# CodeAcademy Text Analysis Project\n",
    "Plan and conduct any number of NLP techniques to analyze and gain insight into the data.\n",
    "These techniques can include:\n",
    "\n",
    "Language Parsing\n",
    "Word Vectorization\n",
    "Language Modeling\n",
    "Topic Modeling\n",
    "Checking Similarity\n",
    "Sentiment Analysis\n",
    "POS Tagging\n",
    "Named Entity Recognition"
   ]
  },
  {
   "cell_type": "code",
   "execution_count": null,
   "id": "1f22f0c1-926a-458e-beda-80f21d3a7b76",
   "metadata": {},
   "outputs": [],
   "source": []
  },
  {
   "cell_type": "markdown",
   "id": "7b878ed3-7e59-4330-92b3-d62a153878f4",
   "metadata": {},
   "source": [
    "## Set-up\n",
    "### Load in required libraries"
   ]
  },
  {
   "cell_type": "code",
   "execution_count": null,
   "id": "365958a2-88f3-4050-ae9e-dcdff30e15af",
   "metadata": {},
   "outputs": [],
   "source": [
    "import pandas as pd\n"
   ]
  },
  {
   "cell_type": "markdown",
   "id": "bcf182e1-b096-40a7-b2af-f24357135ccb",
   "metadata": {},
   "source": [
    "### Load in files"
   ]
  },
  {
   "cell_type": "code",
   "execution_count": null,
   "id": "7e0c6f6f-fbf8-491c-bf49-210b3ffe73af",
   "metadata": {},
   "outputs": [],
   "source": [
    "text_df = "
   ]
  },
  {
   "cell_type": "code",
   "execution_count": null,
   "id": "e8466c4c-3cdd-4416-9866-30ecda2022fe",
   "metadata": {},
   "outputs": [],
   "source": [
    "# view data"
   ]
  },
  {
   "cell_type": "code",
   "execution_count": null,
   "id": "07a05eea-04e7-4c03-9b7f-3e4689f0e3b6",
   "metadata": {},
   "outputs": [],
   "source": []
  },
  {
   "cell_type": "code",
   "execution_count": null,
   "id": "56a4116f-031e-42e9-bfd4-1e7b1d4b13f9",
   "metadata": {},
   "outputs": [],
   "source": []
  }
 ],
 "metadata": {
  "kernelspec": {
   "display_name": "Python 3",
   "language": "python",
   "name": "python3"
  },
  "language_info": {
   "codemirror_mode": {
    "name": "ipython",
    "version": 3
   },
   "file_extension": ".py",
   "mimetype": "text/x-python",
   "name": "python",
   "nbconvert_exporter": "python",
   "pygments_lexer": "ipython3",
   "version": "3.8.8"
  }
 },
 "nbformat": 4,
 "nbformat_minor": 5
}
